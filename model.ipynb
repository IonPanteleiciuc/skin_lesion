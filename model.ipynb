{
 "cells": [
  {
   "cell_type": "code",
   "execution_count": 1,
   "metadata": {},
   "outputs": [],
   "source": [
    "import pandas as pd\n",
    "import os\n",
    "from PIL import Image"
   ]
  },
  {
   "cell_type": "markdown",
   "metadata": {},
   "source": [
    "### **Data importation & visualization**"
   ]
  },
  {
   "cell_type": "code",
   "execution_count": 28,
   "metadata": {},
   "outputs": [],
   "source": [
    "test_data_dir = \"data/ISIC_2019_Test_Input/\"\n",
    "train_data_dir = \"data/ISIC_2019_Training_Input/\"\n",
    "\n",
    "img_paths_train = [train_data_dir + os.listdir(train_data_dir)[i] for i in range(len(os.listdir(train_data_dir)))]\n",
    "img_paths_test = [test_data_dir + os.listdir(test_data_dir)[i] for i in range(len(os.listdir(test_data_dir)))]"
   ]
  },
  {
   "cell_type": "code",
   "execution_count": 30,
   "metadata": {},
   "outputs": [
    {
     "name": "stdout",
     "output_type": "stream",
     "text": [
      "\n",
      "We have 25333 training images.\n",
      "We have 8240 test images.\n",
      "Total images: 33573\n"
     ]
    }
   ],
   "source": [
    "nbTrainImages = len(img_paths_train)\n",
    "nbTestImages = len(img_paths_test)\n",
    "\n",
    "print(f\"\"\"\n",
    "We have {nbTrainImages} training images.\\nWe have {nbTestImages} test images.\\nTotal images: {nbTrainImages + nbTestImages}\"\"\")"
   ]
  },
  {
   "cell_type": "code",
   "execution_count": 3,
   "metadata": {},
   "outputs": [],
   "source": [
    "index = 0\n",
    "img = Image.open(img_paths[index])"
   ]
  },
  {
   "cell_type": "code",
   "execution_count": 14,
   "metadata": {},
   "outputs": [
    {
     "name": "stderr",
     "output_type": "stream",
     "text": [
      "/tmp/ipykernel_1434345/929914540.py:1: DtypeWarning: Columns (8,11,13,14,15,17,18,20,21,22) have mixed types. Specify dtype option on import or set low_memory=False.\n",
      "  metadata = pd.read_csv('data/metadata.csv')\n"
     ]
    },
    {
     "data": {
      "text/html": [
       "<div>\n",
       "<style scoped>\n",
       "    .dataframe tbody tr th:only-of-type {\n",
       "        vertical-align: middle;\n",
       "    }\n",
       "\n",
       "    .dataframe tbody tr th {\n",
       "        vertical-align: top;\n",
       "    }\n",
       "\n",
       "    .dataframe thead th {\n",
       "        text-align: right;\n",
       "    }\n",
       "</style>\n",
       "<table border=\"1\" class=\"dataframe\">\n",
       "  <thead>\n",
       "    <tr style=\"text-align: right;\">\n",
       "      <th></th>\n",
       "      <th>isic_id</th>\n",
       "      <th>benign_malignant</th>\n",
       "    </tr>\n",
       "  </thead>\n",
       "  <tbody>\n",
       "    <tr>\n",
       "      <th>0</th>\n",
       "      <td>ISIC_3491559</td>\n",
       "      <td>benign</td>\n",
       "    </tr>\n",
       "    <tr>\n",
       "      <th>1</th>\n",
       "      <td>ISIC_3622379</td>\n",
       "      <td>benign</td>\n",
       "    </tr>\n",
       "    <tr>\n",
       "      <th>2</th>\n",
       "      <td>ISIC_2443008</td>\n",
       "      <td>malignant</td>\n",
       "    </tr>\n",
       "    <tr>\n",
       "      <th>3</th>\n",
       "      <td>ISIC_6892286</td>\n",
       "      <td>malignant</td>\n",
       "    </tr>\n",
       "    <tr>\n",
       "      <th>4</th>\n",
       "      <td>ISIC_1979534</td>\n",
       "      <td>malignant</td>\n",
       "    </tr>\n",
       "    <tr>\n",
       "      <th>...</th>\n",
       "      <td>...</td>\n",
       "      <td>...</td>\n",
       "    </tr>\n",
       "    <tr>\n",
       "      <th>71665</th>\n",
       "      <td>ISIC_0000004</td>\n",
       "      <td>malignant</td>\n",
       "    </tr>\n",
       "    <tr>\n",
       "      <th>71666</th>\n",
       "      <td>ISIC_0000003</td>\n",
       "      <td>benign</td>\n",
       "    </tr>\n",
       "    <tr>\n",
       "      <th>71667</th>\n",
       "      <td>ISIC_0000002</td>\n",
       "      <td>malignant</td>\n",
       "    </tr>\n",
       "    <tr>\n",
       "      <th>71668</th>\n",
       "      <td>ISIC_0000001</td>\n",
       "      <td>benign</td>\n",
       "    </tr>\n",
       "    <tr>\n",
       "      <th>71669</th>\n",
       "      <td>ISIC_0000000</td>\n",
       "      <td>benign</td>\n",
       "    </tr>\n",
       "  </tbody>\n",
       "</table>\n",
       "<p>71670 rows × 2 columns</p>\n",
       "</div>"
      ],
      "text/plain": [
       "            isic_id benign_malignant\n",
       "0      ISIC_3491559           benign\n",
       "1      ISIC_3622379           benign\n",
       "2      ISIC_2443008        malignant\n",
       "3      ISIC_6892286        malignant\n",
       "4      ISIC_1979534        malignant\n",
       "...             ...              ...\n",
       "71665  ISIC_0000004        malignant\n",
       "71666  ISIC_0000003           benign\n",
       "71667  ISIC_0000002        malignant\n",
       "71668  ISIC_0000001           benign\n",
       "71669  ISIC_0000000           benign\n",
       "\n",
       "[71670 rows x 2 columns]"
      ]
     },
     "execution_count": 14,
     "metadata": {},
     "output_type": "execute_result"
    }
   ],
   "source": [
    "metadata = pd.read_csv('data/metadata.csv')\n",
    "df = metadata[['isic_id', 'benign_malignant']]\n",
    "df"
   ]
  },
  {
   "cell_type": "code",
   "execution_count": 15,
   "metadata": {},
   "outputs": [
    {
     "data": {
      "text/plain": [
       "array(['benign', 'malignant', 'indeterminate/malignant',\n",
       "       'indeterminate/benign', nan, 'indeterminate'], dtype=object)"
      ]
     },
     "execution_count": 15,
     "metadata": {},
     "output_type": "execute_result"
    }
   ],
   "source": [
    "df[\"benign_malignant\"].unique()"
   ]
  },
  {
   "cell_type": "code",
   "execution_count": null,
   "metadata": {},
   "outputs": [],
   "source": []
  }
 ],
 "metadata": {
  "kernelspec": {
   "display_name": "Python 3",
   "language": "python",
   "name": "python3"
  },
  "language_info": {
   "codemirror_mode": {
    "name": "ipython",
    "version": 3
   },
   "file_extension": ".py",
   "mimetype": "text/x-python",
   "name": "python",
   "nbconvert_exporter": "python",
   "pygments_lexer": "ipython3",
   "version": "3.10.6"
  },
  "orig_nbformat": 4,
  "vscode": {
   "interpreter": {
    "hash": "31f2aee4e71d21fbe5cf8b01ff0e069b9275f58929596ceb00d14d90e3e16cd6"
   }
  }
 },
 "nbformat": 4,
 "nbformat_minor": 2
}
